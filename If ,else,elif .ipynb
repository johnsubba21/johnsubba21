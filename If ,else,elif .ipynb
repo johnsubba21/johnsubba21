{
 "cells": [
  {
   "cell_type": "code",
   "execution_count": 1,
   "id": "e5a1e946",
   "metadata": {},
   "outputs": [],
   "source": [
    "# if ,elses,elif statement "
   ]
  },
  {
   "cell_type": "code",
   "execution_count": 7,
   "id": "0179bda8",
   "metadata": {},
   "outputs": [
    {
     "name": "stdout",
     "output_type": "stream",
     "text": [
      "It is greater\n"
     ]
    }
   ],
   "source": [
    "if 3>2:\n",
    "    print('It is greater')"
   ]
  },
  {
   "cell_type": "code",
   "execution_count": 8,
   "id": "4a92b932",
   "metadata": {},
   "outputs": [
    {
     "name": "stdout",
     "output_type": "stream",
     "text": [
      "Feed me\n"
     ]
    }
   ],
   "source": [
    "hungry =True\n",
    "if hungry:\n",
    "    print('Feed me')"
   ]
  },
  {
   "cell_type": "code",
   "execution_count": 10,
   "id": "da830a15",
   "metadata": {},
   "outputs": [
    {
     "name": "stdout",
     "output_type": "stream",
     "text": [
      "i'm not hungry\n"
     ]
    }
   ],
   "source": [
    "hungry =False\n",
    "if hungry:\n",
    "    print('Feed me')\n",
    "else:\n",
    "    print(\"i'm not hungry\")"
   ]
  },
  {
   "cell_type": "code",
   "execution_count": 20,
   "id": "270266e8",
   "metadata": {},
   "outputs": [
    {
     "name": "stdout",
     "output_type": "stream",
     "text": [
      "Money is cool$$\n"
     ]
    }
   ],
   "source": [
    "Loc = 'Bank'\n",
    "if loc =='Auto Shop':\n",
    "    print('Cars are cool')\n",
    "elif loc =='Bank':\n",
    "    print('Money is cool$$')\n",
    "elif loc =='Store':\n",
    "    print('Welcome to the store')\n",
    "else:\n",
    "    print('I do not know much')\n"
   ]
  },
  {
   "cell_type": "code",
   "execution_count": 25,
   "id": "08a9802b",
   "metadata": {},
   "outputs": [
    {
     "name": "stdout",
     "output_type": "stream",
     "text": [
      "1\n",
      "2\n",
      "3\n",
      "4\n",
      "5\n",
      "6\n",
      "7\n",
      "8\n"
     ]
    }
   ],
   "source": [
    "my_itereble =[1,2,3,4,5,6,7,8]\n",
    "for happy in my_itereble:\n",
    "    print(happy)"
   ]
  },
  {
   "cell_type": "code",
   "execution_count": 27,
   "id": "e4d7be27",
   "metadata": {},
   "outputs": [
    {
     "name": "stdout",
     "output_type": "stream",
     "text": [
      "Thursday\n",
      "Thursday\n",
      "Thursday\n",
      "Thursday\n",
      "Thursday\n",
      "Thursday\n"
     ]
    }
   ],
   "source": [
    "my_list =[1,2,3,4,5,6]\n",
    "for num in my_list:\n",
    "    print('Thursday')"
   ]
  },
  {
   "cell_type": "code",
   "execution_count": 39,
   "id": "4aa4247d",
   "metadata": {},
   "outputs": [
    {
     "name": "stdout",
     "output_type": "stream",
     "text": [
      "Odd number 1\n",
      "2\n",
      "Odd number 3\n",
      "4\n",
      "Odd number 5\n",
      "6\n",
      "Odd number 7\n",
      "8\n",
      "Odd number 9\n",
      "10\n"
     ]
    }
   ],
   "source": [
    "mylist =[1,2,3,4,5,6,7,8,9,10]\n",
    "for num in mylist:\n",
    "    if num % 2==0:\n",
    "        print(num)\n",
    "    else:\n",
    "        print(f'Odd number {num}')"
   ]
  },
  {
   "cell_type": "code",
   "execution_count": 41,
   "id": "88b9a635",
   "metadata": {},
   "outputs": [
    {
     "name": "stdout",
     "output_type": "stream",
     "text": [
      "1\n",
      "3\n",
      "6\n",
      "10\n",
      "15\n",
      "21\n",
      "28\n",
      "36\n",
      "45\n",
      "55\n"
     ]
    }
   ],
   "source": [
    "mylist =[1,2,3,4,5,6,7,8,9,10]\n",
    "list_sum = 0\n",
    "for num in mylist:\n",
    "    list_sum =list_sum + num\n",
    "    print(list_sum)"
   ]
  },
  {
   "cell_type": "code",
   "execution_count": null,
   "id": "b6e0ed56",
   "metadata": {},
   "outputs": [],
   "source": []
  }
 ],
 "metadata": {
  "kernelspec": {
   "display_name": "Python 3 (ipykernel)",
   "language": "python",
   "name": "python3"
  },
  "language_info": {
   "codemirror_mode": {
    "name": "ipython",
    "version": 3
   },
   "file_extension": ".py",
   "mimetype": "text/x-python",
   "name": "python",
   "nbconvert_exporter": "python",
   "pygments_lexer": "ipython3",
   "version": "3.10.9"
  }
 },
 "nbformat": 4,
 "nbformat_minor": 5
}
