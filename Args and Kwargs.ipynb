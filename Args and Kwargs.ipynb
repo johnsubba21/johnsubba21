{
 "cells": [
  {
   "cell_type": "markdown",
   "id": "c2ca05d9",
   "metadata": {},
   "source": [
    "#Args "
   ]
  },
  {
   "cell_type": "code",
   "execution_count": 2,
   "id": "313ec58b",
   "metadata": {},
   "outputs": [],
   "source": [
    "def myfunc(a,b):\n",
    "    return a+b\n"
   ]
  },
  {
   "cell_type": "code",
   "execution_count": 4,
   "id": "7e911c39",
   "metadata": {},
   "outputs": [
    {
     "data": {
      "text/plain": [
       "50"
      ]
     },
     "execution_count": 4,
     "metadata": {},
     "output_type": "execute_result"
    }
   ],
   "source": [
    "myfunc(30,20)"
   ]
  },
  {
   "cell_type": "code",
   "execution_count": 5,
   "id": "0fc5a4f8",
   "metadata": {},
   "outputs": [],
   "source": [
    "def myfunc(*args):\n",
    "    return sum(args)*0.05\n",
    "\n"
   ]
  },
  {
   "cell_type": "code",
   "execution_count": 6,
   "id": "86236eda",
   "metadata": {},
   "outputs": [
    {
     "data": {
      "text/plain": [
       "12.5"
      ]
     },
     "execution_count": 6,
     "metadata": {},
     "output_type": "execute_result"
    }
   ],
   "source": [
    "myfunc(10,20,30,40,40,50,60)"
   ]
  },
  {
   "cell_type": "code",
   "execution_count": 7,
   "id": "60dd2a65",
   "metadata": {},
   "outputs": [
    {
     "name": "stdout",
     "output_type": "stream",
     "text": [
      "10\n",
      "20\n",
      "30\n",
      "40\n",
      "50\n",
      "60\n"
     ]
    }
   ],
   "source": [
    "def myfunc(*args):\n",
    "    for item in args:\n",
    "        print(item)\n",
    "myfunc(10,20,30,40,50,60)"
   ]
  },
  {
   "cell_type": "code",
   "execution_count": 21,
   "id": "0de90ee1",
   "metadata": {},
   "outputs": [
    {
     "name": "stdout",
     "output_type": "stream",
     "text": [
      "{'fruits': 'Apple', 'food': 'Rice', 'veggie': 'lecttuce'}\n",
      "i did not find any fruit here\n"
     ]
    }
   ],
   "source": [
    "def myfunc(**kwargs):\n",
    "    print(kwargs)\n",
    "    if 'fruit' in kwargs:\n",
    "        print('my choice of fruit in {}{}',format(kwargs['fruit',]))\n",
    "    else:\n",
    "        print('i did not find any fruit here')\n",
    "myfunc(fruits='Apple',food='Rice',veggie ='lecttuce')   "
   ]
  },
  {
   "cell_type": "code",
   "execution_count": 24,
   "id": "fc7cd734",
   "metadata": {},
   "outputs": [],
   "source": [
    "def mynewfunc(*args,**kwargs):\n",
    "    print('I would like {} {}'.format(args[0],kwargs['food']))\n",
    "    "
   ]
  },
  {
   "cell_type": "code",
   "execution_count": 25,
   "id": "caaebf62",
   "metadata": {},
   "outputs": [
    {
     "name": "stdout",
     "output_type": "stream",
     "text": [
      "I would like 10 Biryani\n"
     ]
    }
   ],
   "source": [
    "mynewfunc(10,20,30, food ='Biryani', fruit ='mango', veggie ='potato')"
   ]
  },
  {
   "cell_type": "code",
   "execution_count": 73,
   "id": "9326a02f",
   "metadata": {},
   "outputs": [],
   "source": [
    "def mystrfunc(inputstring):\n",
    "   outstring=''\n",
    "   for item in range(len(inputstring)):\n",
    "    if item%2 ==0:\n",
    "        outstring += inputstring[item].lower()\n",
    "    else:\n",
    "     outstring += inputstring[item].upper()\n",
    "    return inputstring"
   ]
  },
  {
   "cell_type": "code",
   "execution_count": 74,
   "id": "fd6fe1b2",
   "metadata": {},
   "outputs": [
    {
     "data": {
      "text/plain": [
       "'Anthropomorphism'"
      ]
     },
     "execution_count": 74,
     "metadata": {},
     "output_type": "execute_result"
    }
   ],
   "source": [
    "mystrfunc('Anthropomorphism')"
   ]
  },
  {
   "cell_type": "code",
   "execution_count": null,
   "id": "4f6b157f",
   "metadata": {},
   "outputs": [],
   "source": []
  },
  {
   "cell_type": "code",
   "execution_count": null,
   "id": "013efa3e",
   "metadata": {},
   "outputs": [],
   "source": []
  }
 ],
 "metadata": {
  "kernelspec": {
   "display_name": "Python 3 (ipykernel)",
   "language": "python",
   "name": "python3"
  },
  "language_info": {
   "codemirror_mode": {
    "name": "ipython",
    "version": 3
   },
   "file_extension": ".py",
   "mimetype": "text/x-python",
   "name": "python",
   "nbconvert_exporter": "python",
   "pygments_lexer": "ipython3",
   "version": "3.10.9"
  }
 },
 "nbformat": 4,
 "nbformat_minor": 5
}
