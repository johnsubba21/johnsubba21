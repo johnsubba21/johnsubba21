{
 "cells": [
  {
   "cell_type": "code",
   "execution_count": 1,
   "id": "84289bff",
   "metadata": {},
   "outputs": [],
   "source": [
    "#while loops in pythone\n"
   ]
  },
  {
   "cell_type": "code",
   "execution_count": null,
   "id": "3c235bed",
   "metadata": {
    "collapsed": true
   },
   "outputs": [],
   "source": [
    "#break:break out of the closest enclosing loop\n",
    "#continue:goes to the top of the "
   ]
  }
 ],
 "metadata": {
  "kernelspec": {
   "display_name": "Python 3 (ipykernel)",
   "language": "python",
   "name": "python3"
  },
  "language_info": {
   "codemirror_mode": {
    "name": "ipython",
    "version": 3
   },
   "file_extension": ".py",
   "mimetype": "text/x-python",
   "name": "python",
   "nbconvert_exporter": "python",
   "pygments_lexer": "ipython3",
   "version": "3.10.9"
  }
 },
 "nbformat": 4,
 "nbformat_minor": 5
}
