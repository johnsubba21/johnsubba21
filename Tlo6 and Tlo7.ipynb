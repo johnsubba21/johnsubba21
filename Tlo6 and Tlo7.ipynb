{
 "cells": [
  {
   "cell_type": "code",
   "execution_count": 1,
   "id": "5be11b8c",
   "metadata": {},
   "outputs": [
    {
     "name": "stdout",
     "output_type": "stream",
     "text": [
      "The square of5is25.\n"
     ]
    }
   ],
   "source": [
    "def square_number(num):\n",
    "    squared = num*num\n",
    "    return squared\n",
    "number = 5\n",
    "result=square_number(number)\n",
    "print(f\"The square of{number}is{result}.\")"
   ]
  },
  {
   "cell_type": "code",
   "execution_count": 2,
   "id": "5954b390",
   "metadata": {},
   "outputs": [
    {
     "name": "stdout",
     "output_type": "stream",
     "text": [
      "is'Racecar'a palindrome?True\n"
     ]
    }
   ],
   "source": [
    "def is_palindrome(word):\n",
    "    word = word.lower()\n",
    "    return word == word[::-1]\n",
    "test_word =\"Racecar\"\n",
    "result =is_palindrome(test_word)\n",
    "print(f\"is'{test_word}'a palindrome?{result}\")"
   ]
  },
  {
   "cell_type": "markdown",
   "id": "e03ec7d5",
   "metadata": {},
   "source": [
    "3.create a function to find the factorial of a number"
   ]
  },
  {
   "cell_type": "code",
   "execution_count": 20,
   "id": "fceb10b3",
   "metadata": {},
   "outputs": [
    {
     "ename": "SyntaxError",
     "evalue": "invalid syntax (3974990989.py, line 4)",
     "output_type": "error",
     "traceback": [
      "\u001b[1;36m  Cell \u001b[1;32mIn[20], line 4\u001b[1;36m\u001b[0m\n\u001b[1;33m    else:\u001b[0m\n\u001b[1;37m    ^\u001b[0m\n\u001b[1;31mSyntaxError\u001b[0m\u001b[1;31m:\u001b[0m invalid syntax\n"
     ]
    }
   ],
   "source": [
    "def factorial(num):\n",
    "    if num==0 or num==1:\n",
    "     return1\n",
    "else:\n",
    "    result = 1\n",
    "    for i in range(1,num+1):\n",
    "         result*=i\n",
    "    return result \n",
    "number = 5\n",
    "result = factorial(num)\n",
    "print(f\"The factorial of{num}is{result}.\")\n",
    "            "
   ]
  },
  {
   "cell_type": "markdown",
   "id": "f4fbd205",
   "metadata": {},
   "source": [
    "def odd_check(num):\n",
    "    return num % 2 ==1\n",
    "number =5\n",
    "result =odd_check(number)\n",
    "print(f\"is{number}odd?{result}\")\n"
   ]
  },
  {
   "cell_type": "code",
   "execution_count": 13,
   "id": "17c96e47",
   "metadata": {},
   "outputs": [
    {
     "name": "stdout",
     "output_type": "stream",
     "text": [
      "odd numbers in the list:[1, 3, 5, 7, 9]\n"
     ]
    }
   ],
   "source": [
    "def odd_numbers_list(num_list):\n",
    "    odd_numbers =[]\n",
    "    for numbers in num_list:\n",
    "        if numbers %2==1:\n",
    "            odd_numbers.append(numbers)\n",
    "    return odd_numbers\n",
    "numbers =[1,2,3,4,5,6,7,8,9]\n",
    "result =odd_numbers_list(numbers)\n",
    "print(f\"odd numbers in the list:{result}\")      "
   ]
  },
  {
   "cell_type": "code",
   "execution_count": 10,
   "id": "0b10bc62",
   "metadata": {},
   "outputs": [],
   "source": [
    "def employee_of_month(work_hours):\n",
    "    current_max=0\n",
    "    employee_of_month=\"10\"\n",
    "    for employee,hours in work_hours:\n",
    "        if hours>current_max:\n",
    "            current_max=hours\n",
    "            employee_of_month=employee\n",
    "        return(employee_of_month,current_max)\n",
    "    work_hours_data=[('Abby',100),('Mark',200),('Sammy',600)]\n",
    "    result=employee_of_month(work_hours_data)\n",
    "    print(f\"Employee of the month is{result[0]}with{result[1]}hours worked.\")"
   ]
  },
  {
   "cell_type": "code",
   "execution_count": 12,
   "id": "aa954d86",
   "metadata": {},
   "outputs": [
    {
     "ename": "NameError",
     "evalue": "name 'squared_numbers' is not defined",
     "output_type": "error",
     "traceback": [
      "\u001b[1;31m---------------------------------------------------------------------------\u001b[0m",
      "\u001b[1;31mNameError\u001b[0m                                 Traceback (most recent call last)",
      "Cell \u001b[1;32mIn[12], line 4\u001b[0m\n\u001b[0;32m      2\u001b[0m     squared_list \u001b[38;5;241m=\u001b[39m[num\u001b[38;5;241m*\u001b[39m\u001b[38;5;241m*\u001b[39m\u001b[38;5;241m2\u001b[39m \u001b[38;5;28;01mfor\u001b[39;00m num \u001b[38;5;129;01min\u001b[39;00m num_range]\n\u001b[0;32m      3\u001b[0m     \u001b[38;5;28;01mreturn\u001b[39;00m squared_list\n\u001b[1;32m----> 4\u001b[0m result \u001b[38;5;241m=\u001b[39m\u001b[43msquared_numbers\u001b[49m(\u001b[38;5;28mrange\u001b[39m(\u001b[38;5;241m0\u001b[39m,\u001b[38;5;241m11\u001b[39m))\n\u001b[0;32m      5\u001b[0m \u001b[38;5;28mprint\u001b[39m(result)\n",
      "\u001b[1;31mNameError\u001b[0m: name 'squared_numbers' is not defined"
     ]
    }
   ],
   "source": [
    "def squared_number(num_range):\n",
    "    squared_list =[num**2 for num in num_range]\n",
    "    return squared_list\n",
    "result =squared_numbers(range(0,11))\n",
    "print(result)"
   ]
  },
  {
   "cell_type": "code",
   "execution_count": null,
   "id": "a7a61cc0",
   "metadata": {},
   "outputs": [],
   "source": []
  }
 ],
 "metadata": {
  "kernelspec": {
   "display_name": "Python 3 (ipykernel)",
   "language": "python",
   "name": "python3"
  },
  "language_info": {
   "codemirror_mode": {
    "name": "ipython",
    "version": 3
   },
   "file_extension": ".py",
   "mimetype": "text/x-python",
   "name": "python",
   "nbconvert_exporter": "python",
   "pygments_lexer": "ipython3",
   "version": "3.10.9"
  }
 },
 "nbformat": 4,
 "nbformat_minor": 5
}
