{
 "cells": [
  {
   "cell_type": "markdown",
   "id": "db74cf40",
   "metadata": {},
   "source": [
    "1.Create varieable of different data types (integer,float,string,)and perform various arithmetic operation oon them."
   ]
  },
  {
   "cell_type": "code",
   "execution_count": 1,
   "id": "cda54ddf",
   "metadata": {},
   "outputs": [
    {
     "name": "stdout",
     "output_type": "stream",
     "text": [
      "42 28.799999999999997 5.0\n"
     ]
    }
   ],
   "source": [
    "a=12\n",
    "b=2.4\n",
    "c=\"30\"\n",
    "result1 =a+int(c)\n",
    "result2 =a*b\n",
    "result3 =a/b\n",
    "print(result1,result2,result3)"
   ]
  },
  {
   "cell_type": "markdown",
   "id": "4b3c50cb",
   "metadata": {},
   "source": [
    "2.Given a string s=\"programming is fun\",extract the word \"is\"using slicing."
   ]
  },
  {
   "cell_type": "code",
   "execution_count": 6,
   "id": "ec2b196c",
   "metadata": {},
   "outputs": [
    {
     "name": "stdout",
     "output_type": "stream",
     "text": [
      "programming is fun\n"
     ]
    }
   ],
   "source": [
    "s =\"programming is fun\"\n",
    "extracted_word =s\n",
    "print(extracted_word)"
   ]
  },
  {
   "cell_type": "markdown",
   "id": "69deb236",
   "metadata": {},
   "source": [
    "3.Calculate the area of a rectagle with lenght i and width w using the multification operator."
   ]
  },
  {
   "cell_type": "code",
   "execution_count": 5,
   "id": "8dda2cfe",
   "metadata": {},
   "outputs": [
    {
     "name": "stdout",
     "output_type": "stream",
     "text": [
      "the area of rectangle is: 72\n"
     ]
    }
   ],
   "source": [
    "l =12\n",
    "w =6\n",
    "area =l*w\n",
    "print(\"the area of rectangle is:\",area)"
   ]
  },
  {
   "cell_type": "markdown",
   "id": "c8e16bc0",
   "metadata": {},
   "source": [
    "4.given two number x and y,calculate their sum,difference, product,and quotient using arithmetic operator."
   ]
  },
  {
   "cell_type": "code",
   "execution_count": 7,
   "id": "f926f1f1",
   "metadata": {},
   "outputs": [
    {
     "name": "stdout",
     "output_type": "stream",
     "text": [
      "sum: 14\n",
      "Difference: -2\n",
      "Product: 48\n",
      "Quotient: 0.75\n"
     ]
    }
   ],
   "source": [
    "x = 6\n",
    "y =8\n",
    "sum_result =x+y\n",
    "diff_result =x-y\n",
    "prod_result =x*y\n",
    "quot_result =x/y\n",
    "print(\"sum:\",sum_result)\n",
    "print(\"Difference:\",diff_result)\n",
    "print(\"Product:\",prod_result)\n",
    "print(\"Quotient:\",quot_result)"
   ]
  },
  {
   "cell_type": "markdown",
   "id": "8f775159",
   "metadata": {},
   "source": [
    "8.Determine the remainder of the division of two number a and b using the module operator."
   ]
  },
  {
   "cell_type": "code",
   "execution_count": 8,
   "id": "b8c9427e",
   "metadata": {},
   "outputs": [
    {
     "name": "stdout",
     "output_type": "stream",
     "text": [
      "The remainder of the division is: 3\n"
     ]
    }
   ],
   "source": [
    "a = 15\n",
    "b = 4\n",
    "remainder =a%b\n",
    "print(\"The remainder of the division is:\",remainder)"
   ]
  },
  {
   "cell_type": "markdown",
   "id": "1b2a6d07",
   "metadata": {},
   "source": [
    "TLO3"
   ]
  },
  {
   "cell_type": "code",
   "execution_count": 1,
   "id": "f5509a6e",
   "metadata": {},
   "outputs": [
    {
     "name": "stdout",
     "output_type": "stream",
     "text": [
      "length of the concatenated string: 17\n"
     ]
    }
   ],
   "source": [
    "string1=\"python\"\n",
    "string2=\"programming\"\n",
    "concatenated_string=string1+string2\n",
    "length=len(concatenated_string)\n",
    "print(\"length of the concatenated string:\",length)"
   ]
  },
  {
   "cell_type": "code",
   "execution_count": 2,
   "id": "b78d7d31",
   "metadata": {},
   "outputs": [
    {
     "name": "stdout",
     "output_type": "stream",
     "text": [
      "Index of character'p':0\n"
     ]
    }
   ],
   "source": [
    "input_string=\"python is an easy-to-learn and powerful programming language\"\n",
    "character_to_find=\"p\"\n",
    "index=input_string.find(character_to_find)\n",
    "print(f\"Index of character'{character_to_find}':{index}\")\n"
   ]
  },
  {
   "cell_type": "code",
   "execution_count": 5,
   "id": "7f5970f2",
   "metadata": {},
   "outputs": [
    {
     "name": "stdout",
     "output_type": "stream",
     "text": [
      "value assoiated with key'B': 2\n"
     ]
    }
   ],
   "source": [
    "my_dict={\"A\":1,\"B\":2,\"C\":3}\n",
    "value=my_dict.get(\"B\")\n",
    "print(\"value assoiated with key'B':\",value)"
   ]
  },
  {
   "cell_type": "code",
   "execution_count": 6,
   "id": "fd5d1ce2",
   "metadata": {},
   "outputs": [
    {
     "name": "stdout",
     "output_type": "stream",
     "text": [
      "length of the tuple: 5\n"
     ]
    }
   ],
   "source": [
    "my_tuple=(1,2,3,4,15)\n",
    "length=len(my_tuple)\n",
    "print(\"length of the tuple:\",length)"
   ]
  },
  {
   "cell_type": "code",
   "execution_count": 8,
   "id": "65a8cfd1",
   "metadata": {},
   "outputs": [
    {
     "name": "stdout",
     "output_type": "stream",
     "text": [
      "Is'madam'a palindrome?True\n"
     ]
    }
   ],
   "source": [
    "input_string=\"madam\"\n",
    "is_palindrome=input_string.lower()==input_string.lower()[::-1]\n",
    "print(f\"Is'{input_string}'a palindrome?{is_palindrome}\")"
   ]
  },
  {
   "cell_type": "code",
   "execution_count": 9,
   "id": "29ca9575",
   "metadata": {},
   "outputs": [
    {
     "name": "stdout",
     "output_type": "stream",
     "text": [
      "maximum value: 9\n",
      "minimum value: 4\n"
     ]
    }
   ],
   "source": [
    "my_list=[4,6,7,8,5,9]\n",
    "max_value=max(my_list)\n",
    "min_value=min(my_list)\n",
    "print(\"maximum value:\",max_value)\n",
    "print(\"minimum value:\",min_value)"
   ]
  },
  {
   "cell_type": "code",
   "execution_count": 12,
   "id": "4cd4e47b",
   "metadata": {},
   "outputs": [
    {
     "name": "stdout",
     "output_type": "stream",
     "text": [
      "Set without duplicates: {32, 1, 2, 5, 6, 7, 8}\n"
     ]
    }
   ],
   "source": [
    "my_list=[1,2,32,5,6,7,8,2]\n",
    "unique_set=set(my_list)\n",
    "print(\"Set without duplicates:\",unique_set)"
   ]
  },
  {
   "cell_type": "markdown",
   "id": "e03275e3",
   "metadata": {},
   "source": [
    "TLO4"
   ]
  },
  {
   "cell_type": "code",
   "execution_count": null,
   "id": "6943060b",
   "metadata": {},
   "outputs": [],
   "source": []
  }
 ],
 "metadata": {
  "kernelspec": {
   "display_name": "Python 3 (ipykernel)",
   "language": "python",
   "name": "python3"
  },
  "language_info": {
   "codemirror_mode": {
    "name": "ipython",
    "version": 3
   },
   "file_extension": ".py",
   "mimetype": "text/x-python",
   "name": "python",
   "nbconvert_exporter": "python",
   "pygments_lexer": "ipython3",
   "version": "3.10.9"
  }
 },
 "nbformat": 4,
 "nbformat_minor": 5
}
