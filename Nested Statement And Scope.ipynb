{
 "cells": [
  {
   "cell_type": "code",
   "execution_count": 6,
   "id": "c28bc0a3",
   "metadata": {},
   "outputs": [],
   "source": [
    "x= 40\n",
    "def printer():\n",
    "    x=80\n",
    "    return x\n",
    "#print(x)\n",
    "#print(printer())"
   ]
  },
  {
   "cell_type": "code",
   "execution_count": 7,
   "id": "caff65d3",
   "metadata": {},
   "outputs": [
    {
     "name": "stdout",
     "output_type": "stream",
     "text": [
      "40\n"
     ]
    }
   ],
   "source": [
    "print(x)"
   ]
  },
  {
   "cell_type": "code",
   "execution_count": 8,
   "id": "db73584f",
   "metadata": {},
   "outputs": [
    {
     "name": "stdout",
     "output_type": "stream",
     "text": [
      "80\n"
     ]
    }
   ],
   "source": [
    "print(printer())"
   ]
  },
  {
   "cell_type": "code",
   "execution_count": 20,
   "id": "e2d264b4",
   "metadata": {},
   "outputs": [
    {
     "name": "stdout",
     "output_type": "stream",
     "text": [
      "helloKiran\n"
     ]
    }
   ],
   "source": [
    "name = 'This is a global name'\n",
    "def great():\n",
    "    #Enclosing function\n",
    "    name = 'Kiran'\n",
    "    \n",
    "    def hello ():\n",
    "        print('hello' +name)\n",
    "    hello ()\n",
    "great ()"
   ]
  },
  {
   "cell_type": "code",
   "execution_count": 24,
   "id": "a2ba79ca",
   "metadata": {},
   "outputs": [
    {
     "name": "stdout",
     "output_type": "stream",
     "text": [
      "This is a global name\n"
     ]
    }
   ],
   "source": [
    "print(name)"
   ]
  },
  {
   "cell_type": "code",
   "execution_count": 25,
   "id": "4b904928",
   "metadata": {},
   "outputs": [
    {
     "name": "stdout",
     "output_type": "stream",
     "text": [
      "X is 60\n",
      "Changed local x to 4\n",
      "x is still\n"
     ]
    }
   ],
   "source": [
    "#Local variable\n",
    "x = 60\n",
    "def func(x):\n",
    "    print('X is', x)\n",
    "    x = 4\n",
    "    print('Changed local x to', x)\n",
    "func(x)\n",
    "print('x is still',)\n",
    "    "
   ]
  },
  {
   "cell_type": "code",
   "execution_count": 26,
   "id": "d4a0f054",
   "metadata": {},
   "outputs": [
    {
     "name": "stdout",
     "output_type": "stream",
     "text": [
      "Before calling func(), x is:  100\n",
      "This is using the global x;\n",
      "Because of global x is: 100\n",
      "Ran func(), changed global x to 6\n",
      "value of x (outside of func()) is: 6\n"
     ]
    }
   ],
   "source": [
    "x = 100\n",
    "def func():\n",
    "    global x\n",
    "    print('This is using the global x;')\n",
    "    print('Because of global x is:', x)\n",
    "    x=6 \n",
    "    print('Ran func(), changed global x to', x)\n",
    "print('Before calling func(), x is: ', x)\n",
    "func()\n",
    "print('value of x (outside of func()) is:', x)\n"
   ]
  },
  {
   "cell_type": "code",
   "execution_count": null,
   "id": "3ff94307",
   "metadata": {},
   "outputs": [],
   "source": []
  }
 ],
 "metadata": {
  "kernelspec": {
   "display_name": "Python 3 (ipykernel)",
   "language": "python",
   "name": "python3"
  },
  "language_info": {
   "codemirror_mode": {
    "name": "ipython",
    "version": 3
   },
   "file_extension": ".py",
   "mimetype": "text/x-python",
   "name": "python",
   "nbconvert_exporter": "python",
   "pygments_lexer": "ipython3",
   "version": "3.10.9"
  }
 },
 "nbformat": 4,
 "nbformat_minor": 5
}
