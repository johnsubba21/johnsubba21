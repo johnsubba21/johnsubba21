{
 "cells": [
  {
   "cell_type": "code",
   "execution_count": 4,
   "id": "4f3df6d0",
   "metadata": {},
   "outputs": [],
   "source": [
    "def lesser_of_two_evens(a,b):\n",
    "    if a % 2 == 0 and b % 2 == 0:\n",
    "        #Both are even \n",
    "        if a<b:\n",
    "            result = a\n",
    "        else:\n",
    "            result = b\n",
    "    else:\n",
    "        if a>b:\n",
    "             result = a\n",
    "        else:\n",
    "            result = b\n",
    "    return result"
   ]
  },
  {
   "cell_type": "code",
   "execution_count": 5,
   "id": "10e05bcb",
   "metadata": {},
   "outputs": [
    {
     "data": {
      "text/plain": [
       "2"
      ]
     },
     "execution_count": 5,
     "metadata": {},
     "output_type": "execute_result"
    }
   ],
   "source": [
    "# check\n",
    "lesser_of_two_evens(2,4)"
   ]
  },
  {
   "cell_type": "code",
   "execution_count": 6,
   "id": "0c7e2821",
   "metadata": {},
   "outputs": [],
   "source": [
    "# cleaning the above code and writing a more effieceint code\n",
    "def lesser_of_two_evens(a,b):\n",
    "    if a % 2==0 and b%2==0:\n",
    "        result =min(a,b)\n",
    "    else:\n",
    "        result =max(a,b)\n",
    "    return result"
   ]
  },
  {
   "cell_type": "code",
   "execution_count": 7,
   "id": "7ddbbf8c",
   "metadata": {},
   "outputs": [
    {
     "data": {
      "text/plain": [
       "7"
      ]
     },
     "execution_count": 7,
     "metadata": {},
     "output_type": "execute_result"
    }
   ],
   "source": [
    "lesser_of_two_evens(5,7)"
   ]
  },
  {
   "cell_type": "code",
   "execution_count": 8,
   "id": "b2fcf88e",
   "metadata": {},
   "outputs": [],
   "source": [
    "#a more efficient code\n",
    "def lesser_of_two_evens(a,b):\n",
    "    if a %9==0 and b%10==0:\n",
    "        return min(a,b)\n",
    "    else:\n",
    "        return max(a,b)\n",
    "    "
   ]
  },
  {
   "cell_type": "code",
   "execution_count": 9,
   "id": "b1c64305",
   "metadata": {},
   "outputs": [
    {
     "data": {
      "text/plain": [
       "9"
      ]
     },
     "execution_count": 9,
     "metadata": {},
     "output_type": "execute_result"
    }
   ],
   "source": [
    "lesser_of_two_evens(9,10)"
   ]
  },
  {
   "cell_type": "code",
   "execution_count": 10,
   "id": "c1eb32c5",
   "metadata": {},
   "outputs": [],
   "source": [
    "def  animals_crackers(text):\n",
    "    worldlist = text.split()\n",
    "    first = worldlist[0]\n",
    "    second = worldlist[1]\n",
    "    return first[0]==second[0]"
   ]
  },
  {
   "cell_type": "code",
   "execution_count": 11,
   "id": "3cd76f1a",
   "metadata": {},
   "outputs": [
    {
     "data": {
      "text/plain": [
       "True"
      ]
     },
     "execution_count": 11,
     "metadata": {},
     "output_type": "execute_result"
    }
   ],
   "source": [
    "# check\n",
    "animals_crackers('Levelheaded Llama')"
   ]
  },
  {
   "cell_type": "code",
   "execution_count": 14,
   "id": "c0b155dc",
   "metadata": {},
   "outputs": [
    {
     "data": {
      "text/plain": [
       "False"
      ]
     },
     "execution_count": 14,
     "metadata": {},
     "output_type": "execute_result"
    }
   ],
   "source": [
    "# check\n",
    "animals_crackers('crazy kangaroo') "
   ]
  },
  {
   "cell_type": "code",
   "execution_count": 16,
   "id": "78cd8055",
   "metadata": {},
   "outputs": [],
   "source": [
    "def makes_twenty(n1,n2):\n",
    "    if n1+n2==20:\n",
    "        return True\n",
    "    elif n1 == 20:\n",
    "        return True\n",
    "    elif n2 == 20:\n",
    "        return True\n",
    "    else:\n",
    "        return False"
   ]
  },
  {
   "cell_type": "code",
   "execution_count": 17,
   "id": "17ef22c4",
   "metadata": {},
   "outputs": [
    {
     "data": {
      "text/plain": [
       "True"
      ]
     },
     "execution_count": 17,
     "metadata": {},
     "output_type": "execute_result"
    }
   ],
   "source": [
    "# check\n",
    "makes_twenty(20,10)"
   ]
  },
  {
   "cell_type": "markdown",
   "id": "51ffd97a",
   "metadata": {},
   "source": [
    "Level 1 problems"
   ]
  },
  {
   "cell_type": "code",
   "execution_count": 35,
   "id": "388f8c4c",
   "metadata": {},
   "outputs": [],
   "source": [
    "# using upper\n",
    "def old_Macdonald(name):\n",
    "    first = name[0]\n",
    "    #print(first)\n",
    "    in_between = name[1:3]\n",
    "    #print(in_between)\n",
    "    fourth = name[3]\n",
    "    #print(fourth)\n",
    "    rest = name[4:1]"
   ]
  },
  {
   "cell_type": "code",
   "execution_count": 38,
   "id": "795fafe7",
   "metadata": {},
   "outputs": [
    {
     "ename": "IndentationError",
     "evalue": "unexpected indent (2879306326.py, line 2)",
     "output_type": "error",
     "traceback": [
      "\u001b[1;36m  Cell \u001b[1;32mIn[38], line 2\u001b[1;36m\u001b[0m\n\u001b[1;33m    old_macdonald('macdonald')\u001b[0m\n\u001b[1;37m    ^\u001b[0m\n\u001b[1;31mIndentationError\u001b[0m\u001b[1;31m:\u001b[0m unexpected indent\n"
     ]
    }
   ],
   "source": [
    "# check\n",
    " old_macdonald('macdonald')"
   ]
  },
  {
   "cell_type": "code",
   "execution_count": 39,
   "id": "3422c466",
   "metadata": {},
   "outputs": [],
   "source": [
    "def old_macdonald(name):\n",
    "    first_half = name[:3]\n",
    "    second_half = name[3:]\n",
    "    return first_half.capitalize() + second_half.capitalize()"
   ]
  },
  {
   "cell_type": "code",
   "execution_count": 40,
   "id": "8c0fdd2b",
   "metadata": {},
   "outputs": [
    {
     "data": {
      "text/plain": [
       "'MacDonald'"
      ]
     },
     "execution_count": 40,
     "metadata": {},
     "output_type": "execute_result"
    }
   ],
   "source": [
    "old_macdonald('macdonald')"
   ]
  },
  {
   "cell_type": "code",
   "execution_count": 43,
   "id": "9e8a4596",
   "metadata": {},
   "outputs": [],
   "source": [
    "#returning reversed list\n",
    "def master_yoda(text):\n",
    "    worldlist = text.split()\n",
    "    rev = worldlist[::-11]\n",
    "    return rev"
   ]
  },
  {
   "cell_type": "code",
   "execution_count": 45,
   "id": "a51cdf2c",
   "metadata": {},
   "outputs": [
    {
     "data": {
      "text/plain": [
       "['done']"
      ]
     },
     "execution_count": 45,
     "metadata": {},
     "output_type": "execute_result"
    }
   ],
   "source": [
    "# check\n",
    "master_yoda ('I am done')"
   ]
  },
  {
   "cell_type": "code",
   "execution_count": 46,
   "id": "859f3780",
   "metadata": {},
   "outputs": [
    {
     "data": {
      "text/plain": [
       "['ready']"
      ]
     },
     "execution_count": 46,
     "metadata": {},
     "output_type": "execute_result"
    }
   ],
   "source": [
    "# check\n",
    "master_yoda('we are ready')"
   ]
  },
  {
   "cell_type": "code",
   "execution_count": 47,
   "id": "fae1611a",
   "metadata": {},
   "outputs": [
    {
     "data": {
      "text/plain": [
       "'a---b---c---'"
      ]
     },
     "execution_count": 47,
     "metadata": {},
     "output_type": "execute_result"
    }
   ],
   "source": [
    "#understanding join method\n",
    "mylist = ['a','b','c']"
   ]
  },
  {
   "cell_type": "code",
   "execution_count": 48,
   "id": "9af563d1",
   "metadata": {},
   "outputs": [
    {
     "data": {
      "text/plain": [
       "'abc'"
      ]
     },
     "execution_count": 48,
     "metadata": {},
     "output_type": "execute_result"
    }
   ],
   "source": [
    "mylist =['a','b','c']\n",
    "''.join(mylist)"
   ]
  },
  {
   "cell_type": "code",
   "execution_count": null,
   "id": "16925272",
   "metadata": {},
   "outputs": [],
   "source": []
  }
 ],
 "metadata": {
  "kernelspec": {
   "display_name": "Python 3 (ipykernel)",
   "language": "python",
   "name": "python3"
  },
  "language_info": {
   "codemirror_mode": {
    "name": "ipython",
    "version": 3
   },
   "file_extension": ".py",
   "mimetype": "text/x-python",
   "name": "python",
   "nbconvert_exporter": "python",
   "pygments_lexer": "ipython3",
   "version": "3.10.9"
  }
 },
 "nbformat": 4,
 "nbformat_minor": 5
}
