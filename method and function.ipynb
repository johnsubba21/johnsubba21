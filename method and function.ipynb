{
 "cells": [
  {
   "cell_type": "code",
   "execution_count": 1,
   "id": "c5d59902",
   "metadata": {},
   "outputs": [],
   "source": [
    " #method in pythnon"
   ]
  },
  {
   "cell_type": "code",
   "execution_count": 3,
   "id": "a423fb03",
   "metadata": {},
   "outputs": [
    {
     "data": {
      "text/plain": [
       "[1, 2, 3, 4]"
      ]
     },
     "execution_count": 3,
     "metadata": {},
     "output_type": "execute_result"
    }
   ],
   "source": [
    "mylist =[1,2,3]\n",
    "mylist.append(4)\n",
    "mylist"
   ]
  },
  {
   "cell_type": "code",
   "execution_count": 4,
   "id": "a44493fd",
   "metadata": {},
   "outputs": [
    {
     "name": "stdout",
     "output_type": "stream",
     "text": [
      "Help on built-in function insert:\n",
      "\n",
      "insert(index, object, /) method of builtins.list instance\n",
      "    Insert object before index.\n",
      "\n"
     ]
    }
   ],
   "source": [
    "mylist.pop()\n",
    "help(mylist.insert)"
   ]
  },
  {
   "cell_type": "code",
   "execution_count": 5,
   "id": "eed5f11a",
   "metadata": {},
   "outputs": [],
   "source": [
    "#def keyword"
   ]
  },
  {
   "cell_type": "code",
   "execution_count": 10,
   "id": "6a70b401",
   "metadata": {},
   "outputs": [],
   "source": [
    "def name_of_function():\n",
    "    '''\n",
    "    Docstring explaines function\n",
    "    '''\n",
    "    print('hello bca')\n",
    "    "
   ]
  },
  {
   "cell_type": "code",
   "execution_count": 11,
   "id": "e49ec426",
   "metadata": {},
   "outputs": [
    {
     "name": "stdout",
     "output_type": "stream",
     "text": [
      "hello bca\n"
     ]
    }
   ],
   "source": [
    "name_of_function()"
   ]
  },
  {
   "cell_type": "code",
   "execution_count": 12,
   "id": "c8e33ecc",
   "metadata": {},
   "outputs": [],
   "source": [
    "def arg_name(name):\n",
    "    print(f'hello my name is {name}')\n",
    "    "
   ]
  },
  {
   "cell_type": "code",
   "execution_count": 13,
   "id": "ace1903e",
   "metadata": {},
   "outputs": [
    {
     "name": "stdout",
     "output_type": "stream",
     "text": [
      "hello my name is John\n"
     ]
    }
   ],
   "source": [
    "arg_name('John')"
   ]
  },
  {
   "cell_type": "code",
   "execution_count": 16,
   "id": "bbd5c983",
   "metadata": {},
   "outputs": [],
   "source": [
    "def add_function(num1,num2):\n",
    "    return num1,num2"
   ]
  },
  {
   "cell_type": "code",
   "execution_count": 17,
   "id": "1bee90f7",
   "metadata": {},
   "outputs": [
    {
     "data": {
      "text/plain": [
       "(20, 30)"
      ]
     },
     "execution_count": 17,
     "metadata": {},
     "output_type": "execute_result"
    }
   ],
   "source": [
    "add_function(20,30)"
   ]
  },
  {
   "cell_type": "code",
   "execution_count": 15,
   "id": "946825f0",
   "metadata": {},
   "outputs": [
    {
     "name": "stdout",
     "output_type": "stream",
     "text": [
      "hello\n",
      "how\n",
      "are\n",
      "you?\n"
     ]
    }
   ],
   "source": [
    "def say_hello():\n",
    "    print('hello')\n",
    "    print('how')\n",
    "    print('are')\n",
    "    print('you?')\n",
    "say_hello()"
   ]
  },
  {
   "cell_type": "code",
   "execution_count": 4,
   "id": "2b42f779",
   "metadata": {},
   "outputs": [],
   "source": [
    "def said_hello(name='this is the default value'):\n",
    "    print(f'hello my name is{name}')\n",
    "    said_hello()"
   ]
  },
  {
   "cell_type": "code",
   "execution_count": null,
   "id": "cbf1e307",
   "metadata": {},
   "outputs": [],
   "source": [
    "said_hello()"
   ]
  },
  {
   "cell_type": "code",
   "execution_count": 5,
   "id": "d07c1205",
   "metadata": {},
   "outputs": [
    {
     "name": "stdout",
     "output_type": "stream",
     "text": [
      "30\n"
     ]
    },
    {
     "data": {
      "text/plain": [
       "30"
      ]
     },
     "execution_count": 5,
     "metadata": {},
     "output_type": "execute_result"
    }
   ],
   "source": [
    "def func(a,b):\n",
    "    print(a+b)\n",
    "    return a+b\n",
    "result =func(10,20)\n",
    "result"
   ]
  },
  {
   "cell_type": "code",
   "execution_count": 6,
   "id": "8414d943",
   "metadata": {},
   "outputs": [],
   "source": [
    "def number_add(num1,num2):\n",
    "    return num1+num2"
   ]
  },
  {
   "cell_type": "code",
   "execution_count": 7,
   "id": "f479d12c",
   "metadata": {},
   "outputs": [
    {
     "data": {
      "text/plain": [
       "'4060'"
      ]
     },
     "execution_count": 7,
     "metadata": {},
     "output_type": "execute_result"
    }
   ],
   "source": [
    "number_add('40','60')"
   ]
  },
  {
   "cell_type": "code",
   "execution_count": 28,
   "id": "a5ad8551",
   "metadata": {},
   "outputs": [],
   "source": [
    "#Logic with python functions"
   ]
  },
  {
   "cell_type": "code",
   "execution_count": 26,
   "id": "3541978f",
   "metadata": {},
   "outputs": [
    {
     "data": {
      "text/plain": [
       "0"
      ]
     },
     "execution_count": 26,
     "metadata": {},
     "output_type": "execute_result"
    }
   ],
   "source": [
    "3%3"
   ]
  },
  {
   "cell_type": "code",
   "execution_count": 29,
   "id": "1ff57c0d",
   "metadata": {},
   "outputs": [
    {
     "data": {
      "text/plain": [
       "0"
      ]
     },
     "execution_count": 29,
     "metadata": {},
     "output_type": "execute_result"
    }
   ],
   "source": [
    "2%2"
   ]
  },
  {
   "cell_type": "code",
   "execution_count": 30,
   "id": "bd2fa395",
   "metadata": {},
   "outputs": [
    {
     "data": {
      "text/plain": [
       "1"
      ]
     },
     "execution_count": 30,
     "metadata": {},
     "output_type": "execute_result"
    }
   ],
   "source": [
    "3%2"
   ]
  },
  {
   "cell_type": "code",
   "execution_count": 31,
   "id": "bf23da71",
   "metadata": {},
   "outputs": [
    {
     "data": {
      "text/plain": [
       "20"
      ]
     },
     "execution_count": 31,
     "metadata": {},
     "output_type": "execute_result"
    }
   ],
   "source": [
    "20%21"
   ]
  },
  {
   "cell_type": "code",
   "execution_count": 32,
   "id": "e56caa3d",
   "metadata": {},
   "outputs": [
    {
     "data": {
      "text/plain": [
       "True"
      ]
     },
     "execution_count": 32,
     "metadata": {},
     "output_type": "execute_result"
    }
   ],
   "source": [
    "4%2==0"
   ]
  },
  {
   "cell_type": "code",
   "execution_count": 33,
   "id": "0484f8a7",
   "metadata": {},
   "outputs": [
    {
     "data": {
      "text/plain": [
       "False"
      ]
     },
     "execution_count": 33,
     "metadata": {},
     "output_type": "execute_result"
    }
   ],
   "source": [
    "5%2==0"
   ]
  },
  {
   "cell_type": "code",
   "execution_count": 34,
   "id": "79e2a767",
   "metadata": {},
   "outputs": [
    {
     "data": {
      "text/plain": [
       "False"
      ]
     },
     "execution_count": 34,
     "metadata": {},
     "output_type": "execute_result"
    }
   ],
   "source": [
    "def even_check(num):\n",
    "    return num %2 ==0\n",
    "even_check(5)"
   ]
  },
  {
   "cell_type": "code",
   "execution_count": 35,
   "id": "8780f697",
   "metadata": {},
   "outputs": [],
   "source": [
    "def even_check(num_list):\n",
    "    for number in num_list:\n",
    "        if number%2 ==0:\n",
    "            return True\n",
    "        else:\n",
    "            pass\n",
    "        return False\n",
    "    check_even([1,1,4])"
   ]
  },
  {
   "cell_type": "code",
   "execution_count": 40,
   "id": "aec7d911",
   "metadata": {},
   "outputs": [
    {
     "data": {
      "text/plain": [
       "[2, 4, 6, 12, 14]"
      ]
     },
     "execution_count": 40,
     "metadata": {},
     "output_type": "execute_result"
    }
   ],
   "source": [
    "def check_even_list(num_list):\n",
    "    even_numbers = [] #placeholder values\n",
    "    for number in num_list:\n",
    "        if number%2==0:\n",
    "            even_numbers.append(number)\n",
    "        else:\n",
    "            pass\n",
    "    return even_numbers\n",
    "check_even_list([1,2,4,5,6,7,9,12,13,14,])"
   ]
  },
  {
   "cell_type": "code",
   "execution_count": 41,
   "id": "d5894187",
   "metadata": {},
   "outputs": [],
   "source": [
    "#functions and Tuple Unpacking in python"
   ]
  },
  {
   "cell_type": "code",
   "execution_count": 43,
   "id": "07f79ebc",
   "metadata": {},
   "outputs": [
    {
     "name": "stdout",
     "output_type": "stream",
     "text": [
      "('APPLE', 100)\n",
      "('GOOGLE', 400)\n",
      "('MICROSOFT', 800)\n"
     ]
    }
   ],
   "source": [
    "stock_prices =[('APPLE',100),('GOOGLE',400),('MICROSOFT',800)]\n",
    "for item in stock_prices:\n",
    "    print(item)"
   ]
  },
  {
   "cell_type": "code",
   "execution_count": 45,
   "id": "4bdcfa58",
   "metadata": {},
   "outputs": [
    {
     "name": "stdout",
     "output_type": "stream",
     "text": [
      "110.0\n",
      "440.0\n",
      "880.0\n"
     ]
    }
   ],
   "source": [
    "for ticker,price in stock_prices:\n",
    "    print(price+(0.1*price))"
   ]
  },
  {
   "cell_type": "code",
   "execution_count": null,
   "id": "c293536c",
   "metadata": {},
   "outputs": [],
   "source": [
    "work_hours ="
   ]
  }
 ],
 "metadata": {
  "kernelspec": {
   "display_name": "Python 3 (ipykernel)",
   "language": "python",
   "name": "python3"
  },
  "language_info": {
   "codemirror_mode": {
    "name": "ipython",
    "version": 3
   },
   "file_extension": ".py",
   "mimetype": "text/x-python",
   "name": "python",
   "nbconvert_exporter": "python",
   "pygments_lexer": "ipython3",
   "version": "3.10.9"
  }
 },
 "nbformat": 4,
 "nbformat_minor": 5
}
