{
 "cells": [
  {
   "cell_type": "code",
   "execution_count": 1,
   "id": "84289bff",
   "metadata": {},
   "outputs": [],
   "source": [
    "#while loops in pythone\n"
   ]
  },
  {
   "cell_type": "code",
   "execution_count": 2,
   "id": "a6df8d04",
   "metadata": {},
   "outputs": [],
   "source": [
    "#break:break out of the closest enclosing loop\n",
    "#continue:goes to the top of the closest enclosing loop\n",
    "#pass:does nothing at all"
   ]
  },
  {
   "cell_type": "code",
   "execution_count": 3,
   "id": "29dcbf6f",
   "metadata": {},
   "outputs": [
    {
     "name": "stdout",
     "output_type": "stream",
     "text": [
      "The end of my script\n"
     ]
    }
   ],
   "source": [
    "x = [1,2,3]\n",
    "for item in x:\n",
    "    #gsdgsd\n",
    "    pass\n",
    "print('The end of my script')"
   ]
  },
  {
   "cell_type": "code",
   "execution_count": 4,
   "id": "d7b122e2",
   "metadata": {},
   "outputs": [
    {
     "name": "stdout",
     "output_type": "stream",
     "text": [
      "J\n",
      "o\n",
      "h\n",
      "n\n"
     ]
    }
   ],
   "source": [
    "mystring = 'John'\n",
    "for letter in mystring:\n",
    "    if letter =='a':\n",
    "        continue\n",
    "    print(letter)"
   ]
  },
  {
   "cell_type": "code",
   "execution_count": 5,
   "id": "ab5b1aee",
   "metadata": {},
   "outputs": [
    {
     "name": "stdout",
     "output_type": "stream",
     "text": [
      "A\n",
      "p\n",
      "r\n"
     ]
    }
   ],
   "source": [
    "mystring = 'April'\n",
    "for letter in mystring:\n",
    "    if letter =='i':\n",
    "        break\n",
    "    print(letter)"
   ]
  },
  {
   "cell_type": "code",
   "execution_count": 6,
   "id": "121cbfda",
   "metadata": {},
   "outputs": [
    {
     "name": "stdout",
     "output_type": "stream",
     "text": [
      "0\n",
      "1\n"
     ]
    }
   ],
   "source": [
    "x = 0\n",
    "while x<5:\n",
    "    if x == 2:\n",
    "        break\n",
    "    print(x)\n",
    "    x+= 1"
   ]
  },
  {
   "cell_type": "code",
   "execution_count": null,
   "id": "a6ba3168",
   "metadata": {},
   "outputs": [],
   "source": []
  }
 ],
 "metadata": {
  "kernelspec": {
   "display_name": "Python 3 (ipykernel)",
   "language": "python",
   "name": "python3"
  },
  "language_info": {
   "codemirror_mode": {
    "name": "ipython",
    "version": 3
   },
   "file_extension": ".py",
   "mimetype": "text/x-python",
   "name": "python",
   "nbconvert_exporter": "python",
   "pygments_lexer": "ipython3",
   "version": "3.10.9"
  }
 },
 "nbformat": 4,
 "nbformat_minor": 5
}
