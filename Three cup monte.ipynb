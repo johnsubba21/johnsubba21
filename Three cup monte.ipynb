{
 "cells": [
  {
   "cell_type": "code",
   "execution_count": 29,
   "id": "5ea1b731",
   "metadata": {},
   "outputs": [
    {
     "name": "stdout",
     "output_type": "stream",
     "text": [
      "pick a number 1,2 or 41\n",
      "correct\n"
     ]
    }
   ],
   "source": [
    "from random import shuffle\n",
    "def my_random_list(myfirstlist):\n",
    "    shuffle(myfirstlist)\n",
    "    return myfirstlist\n",
    "def user_guess():\n",
    "    guessed =''\n",
    "    while guessed not in ['1','2','4']:\n",
    "        guessed=input(\"pick a number 1,2 or 4\")\n",
    "        return int(guessed)\n",
    "def checking_user_guess(myfirstlist,guessed):\n",
    "    if myfirstlist[guessed] =='1':\n",
    "        print('correct')\n",
    "    else:\n",
    "        print('wrong choice')\n",
    "        print('myfirstlist')\n",
    "#Initial list\n",
    "myfirstlist=['1','','']\n",
    "#Shuffle list\n",
    "mixed_list=my_random_list(myfirstlist)\n",
    "#user guess\n",
    "guessed =user_guess()\n",
    "#check user guess\n",
    "checking_user_guess(mixed_list,guessed)\n",
    "    \n",
    "    "
   ]
  },
  {
   "cell_type": "code",
   "execution_count": null,
   "id": "b2a643b0",
   "metadata": {},
   "outputs": [],
   "source": []
  }
 ],
 "metadata": {
  "kernelspec": {
   "display_name": "Python 3 (ipykernel)",
   "language": "python",
   "name": "python3"
  },
  "language_info": {
   "codemirror_mode": {
    "name": "ipython",
    "version": 3
   },
   "file_extension": ".py",
   "mimetype": "text/x-python",
   "name": "python",
   "nbconvert_exporter": "python",
   "pygments_lexer": "ipython3",
   "version": "3.10.9"
  }
 },
 "nbformat": 4,
 "nbformat_minor": 5
}
